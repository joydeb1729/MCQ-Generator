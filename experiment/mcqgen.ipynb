{
 "cells": [
  {
   "cell_type": "code",
   "execution_count": 203,
   "id": "fbe84420",
   "metadata": {},
   "outputs": [],
   "source": [
    "import os\n",
    "import json\n",
    "import pandas as pd\n",
    "import traceback\n",
    "\n",
    "from dotenv import load_dotenv"
   ]
  },
  {
   "cell_type": "code",
   "execution_count": 204,
   "id": "f1a5a8db",
   "metadata": {},
   "outputs": [],
   "source": [
    "load_dotenv()\n",
    "API_KEY = os.getenv('OPENROUTER_API_KEY')"
   ]
  },
  {
   "cell_type": "code",
   "execution_count": 205,
   "id": "0680b6a0",
   "metadata": {},
   "outputs": [],
   "source": [
    "from langchain.llms import OpenAI\n",
    "from langchain_openai import ChatOpenAI\n",
    "from langchain.prompts import PromptTemplate\n",
    "from langchain.chains import LLMChain\n",
    "from langchain.chains import SequentialChain\n",
    "from langchain.callbacks import get_openai_callback\n",
    "import PyPDF2"
   ]
  },
  {
   "cell_type": "markdown",
   "id": "d053a461",
   "metadata": {},
   "source": [
    "### Initialization"
   ]
  },
  {
   "cell_type": "code",
   "execution_count": 206,
   "id": "5958f965",
   "metadata": {},
   "outputs": [],
   "source": [
    "llm = ChatOpenAI(\n",
    "    openai_api_key=API_KEY,\n",
    "    openai_api_base=\"https://openrouter.ai/api/v1\",\n",
    "    model_name=\"shisa-ai/shisa-v2-llama3.3-70b:free\",\n",
    "    temperature=0.5,\n",
    ")"
   ]
  },
  {
   "cell_type": "markdown",
   "id": "f95d9d51",
   "metadata": {},
   "source": [
    "### Response JSON format"
   ]
  },
  {
   "cell_type": "code",
   "execution_count": 207,
   "id": "a0dc0a73",
   "metadata": {},
   "outputs": [],
   "source": [
    "RESPONSE_JSON = {\n",
    "  \"1\": {\n",
    "    \"no\": \"1\",\n",
    "    \"mcq\": \"Multiple choice question.\",\n",
    "    \"options\": {\n",
    "      \"A\": \"Choice A\",\n",
    "      \"B\": \"Choice B\",\n",
    "      \"C\": \"Choice C\",\n",
    "      \"D\": \"Choice D\"\n",
    "    },\n",
    "    \"correct\": \"correct ans\"\n",
    "  },\n",
    "  \"2\": {\n",
    "    \"no\": \"2\",\n",
    "    \"mcq\": \"Multiple choice question.\",\n",
    "    \"options\": {\n",
    "      \"A\": \"Choice A\",\n",
    "      \"B\": \"Choice B\",\n",
    "      \"C\": \"Choice C\",\n",
    "      \"D\": \"Choice D\"\n",
    "    },\n",
    "    \"correct\": \"correct ans\"\n",
    "  },\n",
    "  \"3\": {\n",
    "    \"no\": \"3\",\n",
    "    \"mcq\": \"Multiple choice question.\",\n",
    "    \"options\": {\n",
    "      \"A\": \"Choice A\",\n",
    "      \"B\": \"Choice B\",\n",
    "      \"C\": \"Choice C\",\n",
    "      \"D\": \"Choice D\"\n",
    "    },\n",
    "    \"correct\": \"correct ans\"\n",
    "  }\n",
    "}\n"
   ]
  },
  {
   "cell_type": "markdown",
   "id": "731b7369",
   "metadata": {},
   "source": [
    "### 1st Template (Generation)"
   ]
  },
  {
   "cell_type": "code",
   "execution_count": 208,
   "id": "64376b6b",
   "metadata": {},
   "outputs": [],
   "source": [
    "TEMPLATE = \"\"\"\n",
    "You are an expert question setter with deep knowledge of the subject: {subject}. \n",
    "Generate {number} multiple choice questions (MCQs) from the following text. Use a {tone} tone while creating the questions.\n",
    "\n",
    "TEXT:\n",
    "{text}\n",
    "\n",
    "INSTRUCTIONS:\n",
    "- Each question should have exactly 4 options: A, B, C, and D.\n",
    "- Only one option should be correct.\n",
    "- Vary difficulty from easy to hard and cover different parts of the text.\n",
    "- Ensure relevance and factual accuracy.\n",
    "- Do not include explanations, code fences, or any extra text.\n",
    "\n",
    "RESPONSE FORMAT should be exactly as:\n",
    "{response_json} without any exra information\n",
    "\"\"\"\n"
   ]
  },
  {
   "cell_type": "code",
   "execution_count": 209,
   "id": "8ac00dd1",
   "metadata": {},
   "outputs": [],
   "source": [
    "mcq_generation_prompt = PromptTemplate(\n",
    "    input_variables=['text', 'number', 'subject', 'tone', 'response_json'],\n",
    "    template=TEMPLATE\n",
    ")"
   ]
  },
  {
   "cell_type": "markdown",
   "id": "5959dffe",
   "metadata": {},
   "source": [
    "### 1st Chain"
   ]
  },
  {
   "cell_type": "code",
   "execution_count": 210,
   "id": "55e1cf1e",
   "metadata": {},
   "outputs": [],
   "source": [
    "generation_chain = LLMChain(\n",
    "    llm=llm,\n",
    "    prompt=mcq_generation_prompt,\n",
    "    output_key=\"quiz\",\n",
    "    verbose=True\n",
    ")"
   ]
  },
  {
   "cell_type": "markdown",
   "id": "65acb6b4",
   "metadata": {},
   "source": [
    "### 2nd Template (review)"
   ]
  },
  {
   "cell_type": "code",
   "execution_count": 211,
   "id": "24b15f03",
   "metadata": {},
   "outputs": [],
   "source": [
    "TEMPLATE2 = \"\"\"\n",
    "You are an expert in English grammar and education, skilled at analyzing and adjusting multiple choice questions (MCQs) for clarity, tone, and student ability.\n",
    "\n",
    "Subject: {subject}\n",
    "\n",
    "Below is a JSON array of generated MCQs:\n",
    "{quiz}\n",
    "\n",
    "INSTRUCTIONS:\n",
    "- Check and correct all grammar.\n",
    "- Ensure each question’s complexity matches the students’ level.\n",
    "- Maintain relevance to the subject.\n",
    "- Preserve the specified tone carefully: {tone}.\n",
    "- If any question is too complex, unclear, or off-tone, revise it while keeping its original intent.\n",
    "\n",
    "RESPONSE FORMAT should be exactly same as {response_json} without any extra text:\n",
    "\"\"\"\n"
   ]
  },
  {
   "cell_type": "code",
   "execution_count": 212,
   "id": "654dc767",
   "metadata": {},
   "outputs": [],
   "source": [
    "mcq_evaluation_prompt = PromptTemplate(\n",
    "    input_variables=['quiz', 'subject', 'tone', 'response_json'],\n",
    "    template=TEMPLATE2\n",
    ")"
   ]
  },
  {
   "cell_type": "markdown",
   "id": "da646638",
   "metadata": {},
   "source": [
    "### 2nd Chain"
   ]
  },
  {
   "cell_type": "code",
   "execution_count": 213,
   "id": "73156de7",
   "metadata": {},
   "outputs": [],
   "source": [
    "review_chain = LLMChain(\n",
    "    llm=llm,\n",
    "    prompt=mcq_evaluation_prompt,\n",
    "    output_key=\"reviewed_quiz\",\n",
    "    verbose=True\n",
    ")"
   ]
  },
  {
   "cell_type": "markdown",
   "id": "282c99dd",
   "metadata": {},
   "source": [
    "### Combining 1st and 2nd Chains"
   ]
  },
  {
   "cell_type": "code",
   "execution_count": 214,
   "id": "ecdc2de6",
   "metadata": {},
   "outputs": [],
   "source": [
    "generate_evaluate_chain = SequentialChain(\n",
    "    chains=[generation_chain, review_chain],\n",
    "    input_variables=['text', 'number', 'subject', 'tone', 'response_json'],\n",
    "    output_variables=['quiz', 'reviewed_quiz'], \n",
    "    verbose=True  \n",
    ")\n"
   ]
  },
  {
   "cell_type": "markdown",
   "id": "6b24d1c4",
   "metadata": {},
   "source": [
    "### Reading my source data"
   ]
  },
  {
   "cell_type": "code",
   "execution_count": 215,
   "id": "60c98e22",
   "metadata": {},
   "outputs": [],
   "source": [
    "with open(\"oop_info.txt\", \"r\", encoding=\"utf-8\") as file:\n",
    "    source_text = file.read()"
   ]
  },
  {
   "cell_type": "code",
   "execution_count": 216,
   "id": "2ac92894",
   "metadata": {},
   "outputs": [
    {
     "data": {
      "text/plain": [
       "\"Object-Oriented Programming (OOP) is a programming paradigm that is based on the concept of objects, which can contain both data in the form of fields (often known as attributes or properties) and methods (functions or procedures) that operate on the data. In OOP, the focus is on organizing code around objects and the interactions between them, rather than on logic and functions. OOP allows programmers to model real-world entities and their relationships, which makes it easier to design, manage, and scale software systems.\\n\\nA class in OOP is a blueprint for creating objects. It defines the properties (data attributes) and methods (functions) that the objects created from the class will have. The class itself does not hold any data, but rather it provides a template from which individual objects are created. Each object is an instance of a class, and each object can have its own specific values for the attributes defined in the class. This allows objects to represent real-world entities with unique states and behaviors.\\n\\nThe core concepts of OOP are encapsulation, inheritance, polymorphism, and abstraction. Encapsulation is the concept of bundling the data (attributes) and the methods that operate on that data into a single unit, or object. It also involves restricting access to the internal state of the object and only allowing access through well-defined interfaces, usually methods. This helps protect the integrity of the object's state and makes the system more modular by isolating changes to a specific object.\\n\\nInheritance is a mechanism that allows a new class (child or subclass) to inherit the properties and behaviors of an existing class (parent or superclass). This allows for code reuse and the creation of hierarchical relationships between classes. A subclass can add new methods or override existing ones to provide specific functionality, extending or modifying the behavior of the parent class. This promotes maintainability and helps avoid redundant code.\\n\\nPolymorphism enables objects of different classes to be treated as objects of a common superclass. It allows a single method or operator to work with different types of objects. This can be achieved through method overriding or method overloading. With polymorphism, different objects can respond to the same message or method call in different ways, which increases flexibility in the code and allows for more dynamic behavior.\\n\\nAbstraction is the concept of simplifying complex systems by hiding the unnecessary implementation details and exposing only the essential features or functionality. In OOP, abstraction is typically achieved through abstract classes and interfaces. An abstract class cannot be instantiated on its own but can be inherited by subclasses, which must implement its abstract methods. Abstraction allows developers to work at a higher level, without needing to know the intricate details of the implementation.\\n\\nTogether, these principles help make OOP a highly effective approach for managing complexity in large software projects. It enables better code organization, easier debugging and testing, and greater flexibility for code reuse and future system extensions. Furthermore, OOP encourages a more natural modeling of real-world entities and their relationships, which helps improve the readability and maintainability of code.\""
      ]
     },
     "execution_count": 216,
     "metadata": {},
     "output_type": "execute_result"
    }
   ],
   "source": [
    "source_text"
   ]
  },
  {
   "cell_type": "markdown",
   "id": "e7ffb664",
   "metadata": {},
   "source": [
    "### Serializing Python dictionary to JSON-formatted-string"
   ]
  },
  {
   "cell_type": "code",
   "execution_count": 217,
   "id": "6b885652",
   "metadata": {},
   "outputs": [
    {
     "name": "stdout",
     "output_type": "stream",
     "text": [
      "{\"1\": {\"no\": \"1\", \"mcq\": \"Multiple choice question.\", \"options\": {\"A\": \"Choice A\", \"B\": \"Choice B\", \"C\": \"Choice C\", \"D\": \"Choice D\"}, \"correct\": \"correct ans\"}, \"2\": {\"no\": \"2\", \"mcq\": \"Multiple choice question.\", \"options\": {\"A\": \"Choice A\", \"B\": \"Choice B\", \"C\": \"Choice C\", \"D\": \"Choice D\"}, \"correct\": \"correct ans\"}, \"3\": {\"no\": \"3\", \"mcq\": \"Multiple choice question.\", \"options\": {\"A\": \"Choice A\", \"B\": \"Choice B\", \"C\": \"Choice C\", \"D\": \"Choice D\"}, \"correct\": \"correct ans\"}}\n"
     ]
    }
   ],
   "source": [
    "json_string = json.dumps(RESPONSE_JSON)\n",
    "print(json_string)"
   ]
  },
  {
   "cell_type": "markdown",
   "id": "99682657",
   "metadata": {},
   "source": [
    "### Creating Response and Tracking Token Usage"
   ]
  },
  {
   "cell_type": "code",
   "execution_count": 218,
   "id": "147ad3ce",
   "metadata": {},
   "outputs": [],
   "source": [
    "NUMBER = 5\n",
    "SUBJECT = 'Object Oriented Programming'\n",
    "TONE = 'Simple'"
   ]
  },
  {
   "cell_type": "code",
   "execution_count": 219,
   "id": "5339b542",
   "metadata": {},
   "outputs": [
    {
     "name": "stdout",
     "output_type": "stream",
     "text": [
      "\n",
      "\n",
      "\u001b[1m> Entering new SequentialChain chain...\u001b[0m\n",
      "\n",
      "\n",
      "\u001b[1m> Entering new LLMChain chain...\u001b[0m\n",
      "Prompt after formatting:\n",
      "\u001b[32;1m\u001b[1;3m\n",
      "You are an expert question setter with deep knowledge of the subject: Object Oriented Programming. \n",
      "Generate 5 multiple choice questions (MCQs) from the following text. Use a Simple tone while creating the questions.\n",
      "\n",
      "TEXT:\n",
      "Object-Oriented Programming (OOP) is a programming paradigm that is based on the concept of objects, which can contain both data in the form of fields (often known as attributes or properties) and methods (functions or procedures) that operate on the data. In OOP, the focus is on organizing code around objects and the interactions between them, rather than on logic and functions. OOP allows programmers to model real-world entities and their relationships, which makes it easier to design, manage, and scale software systems.\n",
      "\n",
      "A class in OOP is a blueprint for creating objects. It defines the properties (data attributes) and methods (functions) that the objects created from the class will have. The class itself does not hold any data, but rather it provides a template from which individual objects are created. Each object is an instance of a class, and each object can have its own specific values for the attributes defined in the class. This allows objects to represent real-world entities with unique states and behaviors.\n",
      "\n",
      "The core concepts of OOP are encapsulation, inheritance, polymorphism, and abstraction. Encapsulation is the concept of bundling the data (attributes) and the methods that operate on that data into a single unit, or object. It also involves restricting access to the internal state of the object and only allowing access through well-defined interfaces, usually methods. This helps protect the integrity of the object's state and makes the system more modular by isolating changes to a specific object.\n",
      "\n",
      "Inheritance is a mechanism that allows a new class (child or subclass) to inherit the properties and behaviors of an existing class (parent or superclass). This allows for code reuse and the creation of hierarchical relationships between classes. A subclass can add new methods or override existing ones to provide specific functionality, extending or modifying the behavior of the parent class. This promotes maintainability and helps avoid redundant code.\n",
      "\n",
      "Polymorphism enables objects of different classes to be treated as objects of a common superclass. It allows a single method or operator to work with different types of objects. This can be achieved through method overriding or method overloading. With polymorphism, different objects can respond to the same message or method call in different ways, which increases flexibility in the code and allows for more dynamic behavior.\n",
      "\n",
      "Abstraction is the concept of simplifying complex systems by hiding the unnecessary implementation details and exposing only the essential features or functionality. In OOP, abstraction is typically achieved through abstract classes and interfaces. An abstract class cannot be instantiated on its own but can be inherited by subclasses, which must implement its abstract methods. Abstraction allows developers to work at a higher level, without needing to know the intricate details of the implementation.\n",
      "\n",
      "Together, these principles help make OOP a highly effective approach for managing complexity in large software projects. It enables better code organization, easier debugging and testing, and greater flexibility for code reuse and future system extensions. Furthermore, OOP encourages a more natural modeling of real-world entities and their relationships, which helps improve the readability and maintainability of code.\n",
      "\n",
      "INSTRUCTIONS:\n",
      "- Each question should have exactly 4 options: A, B, C, and D.\n",
      "- Only one option should be correct.\n",
      "- Vary difficulty from easy to hard and cover different parts of the text.\n",
      "- Ensure relevance and factual accuracy.\n",
      "- Do not include explanations, code fences, or any extra text.\n",
      "\n",
      "RESPONSE FORMAT should be exactly as:\n",
      "{\"1\": {\"no\": \"1\", \"mcq\": \"Multiple choice question.\", \"options\": {\"A\": \"Choice A\", \"B\": \"Choice B\", \"C\": \"Choice C\", \"D\": \"Choice D\"}, \"correct\": \"correct ans\"}, \"2\": {\"no\": \"2\", \"mcq\": \"Multiple choice question.\", \"options\": {\"A\": \"Choice A\", \"B\": \"Choice B\", \"C\": \"Choice C\", \"D\": \"Choice D\"}, \"correct\": \"correct ans\"}, \"3\": {\"no\": \"3\", \"mcq\": \"Multiple choice question.\", \"options\": {\"A\": \"Choice A\", \"B\": \"Choice B\", \"C\": \"Choice C\", \"D\": \"Choice D\"}, \"correct\": \"correct ans\"}} without any exra information\n",
      "\u001b[0m\n",
      "\n",
      "\u001b[1m> Finished chain.\u001b[0m\n",
      "\n",
      "\n",
      "\u001b[1m> Entering new LLMChain chain...\u001b[0m\n",
      "Prompt after formatting:\n",
      "\u001b[32;1m\u001b[1;3m\n",
      "You are an expert in English grammar and education, skilled at analyzing and adjusting multiple choice questions (MCQs) for clarity, tone, and student ability.\n",
      "\n",
      "Subject: Object Oriented Programming\n",
      "\n",
      "Below is a JSON array of generated MCQs:\n",
      "{\"1\": {\"no\": \"1\", \"mcq\": \"What is the primary focus of Object-Oriented Programming?\", \"options\": {\"A\": \"Logic and functions\", \"B\": \"Objects and their interactions\", \"C\": \"Data structures and algorithms\", \"D\": \"Procedural programming\"}, \"correct\": \"B\"}, \"2\": {\"no\": \"2\", \"mcq\": \"What does a class in OOP define?\", \"options\": {\"A\": \"A specific object with its own data\", \"B\": \"Properties and methods for objects created from it\", \"C\": \"A set of unrelated functions\", \"D\": \"A collection of abstract data types\"}, \"correct\": \"B\"}, \"3\": {\"no\": \"3\", \"mcq\": \"Which OOP concept involves hiding implementation details and exposing only essential features?\", \"options\": {\"A\": \"Encapsulation\", \"B\": \"Inheritance\", \"C\": \"Polymorphism\", \"D\": \"Abstraction\"}, \"correct\": \"D\"}, \"4\": {\"no\": \"4\", \"mcq\": \"What allows a subclass to inherit properties and behaviors from a parent class?\", \"options\": {\"A\": \"Polymorphism\", \"B\": \"Encapsulation\", \"C\": \"Abstraction\", \"D\": \"Inheritance\"}, \"correct\": \"D\"}, \"5\": {\"no\": \"5\", \"mcq\": \"Which concept enables objects of different classes to be treated as objects of a common superclass?\", \"options\": {\"A\": \"Encapsulation\", \"B\": \"Abstraction\", \"C\": \"Inheritance\", \"D\": \"Polymorphism\"}, \"correct\": \"D\"}}\n",
      "\n",
      "INSTRUCTIONS:\n",
      "- Check and correct all grammar.\n",
      "- Ensure each question’s complexity matches the students’ level.\n",
      "- Maintain relevance to the subject.\n",
      "- Preserve the specified tone carefully: Simple.\n",
      "- If any question is too complex, unclear, or off-tone, revise it while keeping its original intent.\n",
      "\n",
      "RESPONSE FORMAT should be exactly same as {\"1\": {\"no\": \"1\", \"mcq\": \"Multiple choice question.\", \"options\": {\"A\": \"Choice A\", \"B\": \"Choice B\", \"C\": \"Choice C\", \"D\": \"Choice D\"}, \"correct\": \"correct ans\"}, \"2\": {\"no\": \"2\", \"mcq\": \"Multiple choice question.\", \"options\": {\"A\": \"Choice A\", \"B\": \"Choice B\", \"C\": \"Choice C\", \"D\": \"Choice D\"}, \"correct\": \"correct ans\"}, \"3\": {\"no\": \"3\", \"mcq\": \"Multiple choice question.\", \"options\": {\"A\": \"Choice A\", \"B\": \"Choice B\", \"C\": \"Choice C\", \"D\": \"Choice D\"}, \"correct\": \"correct ans\"}} without any extra text:\n",
      "\u001b[0m\n",
      "\n",
      "\u001b[1m> Finished chain.\u001b[0m\n",
      "\n",
      "\u001b[1m> Finished chain.\u001b[0m\n"
     ]
    }
   ],
   "source": [
    "with get_openai_callback() as cb:\n",
    "    response = generate_evaluate_chain(\n",
    "        {\n",
    "            \"text\" : source_text,\n",
    "            \"number\" : NUMBER,\n",
    "            'subject' : SUBJECT,\n",
    "            'tone' : TONE,\n",
    "            'response_json' : json_string\n",
    "        }\n",
    "    )"
   ]
  },
  {
   "cell_type": "code",
   "execution_count": 220,
   "id": "4b1b000d",
   "metadata": {},
   "outputs": [
    {
     "name": "stdout",
     "output_type": "stream",
     "text": [
      "Total Tokens: 2312\n",
      "Input Tokens: 1613\n",
      "Output Tokens: 699\n",
      "Total Costs: 0.0\n"
     ]
    }
   ],
   "source": [
    "print(f\"Total Tokens: {cb.total_tokens}\")\n",
    "print(f\"Input Tokens: {cb.prompt_tokens}\")      \n",
    "print(f\"Output Tokens: {cb.completion_tokens}\")\n",
    "print(f\"Total Costs: {cb.total_cost}\")\n"
   ]
  },
  {
   "cell_type": "code",
   "execution_count": 221,
   "id": "17262c9e",
   "metadata": {},
   "outputs": [
    {
     "data": {
      "text/plain": [
       "'{\"1\": {\"no\": \"1\", \"mcq\": \"What is the primary focus of Object-Oriented Programming?\", \"options\": {\"A\": \"Logic and functions\", \"B\": \"Objects and their interactions\", \"C\": \"Data structures and algorithms\", \"D\": \"Procedural programming\"}, \"correct\": \"B\"}, \"2\": {\"no\": \"2\", \"mcq\": \"What does a class in OOP define?\", \"options\": {\"A\": \"A specific object with its own data\", \"B\": \"Properties and methods for objects created from it\", \"C\": \"A set of unrelated functions\", \"D\": \"A collection of abstract data types\"}, \"correct\": \"B\"}, \"3\": {\"no\": \"3\", \"mcq\": \"Which OOP concept involves hiding implementation details and exposing only essential features?\", \"options\": {\"A\": \"Encapsulation\", \"B\": \"Inheritance\", \"C\": \"Polymorphism\", \"D\": \"Abstraction\"}, \"correct\": \"D\"}, \"4\": {\"no\": \"4\", \"mcq\": \"What allows a subclass to inherit properties and behaviors from a parent class?\", \"options\": {\"A\": \"Polymorphism\", \"B\": \"Encapsulation\", \"C\": \"Abstraction\", \"D\": \"Inheritance\"}, \"correct\": \"D\"}, \"5\": {\"no\": \"5\", \"mcq\": \"Which concept enables objects of different classes to be treated as objects of a common superclass?\", \"options\": {\"A\": \"Encapsulation\", \"B\": \"Abstraction\", \"C\": \"Inheritance\", \"D\": \"Polymorphism\"}, \"correct\": \"D\"}}'"
      ]
     },
     "execution_count": 221,
     "metadata": {},
     "output_type": "execute_result"
    }
   ],
   "source": [
    "quiz = response.get('quiz')\n",
    "quiz"
   ]
  },
  {
   "cell_type": "code",
   "execution_count": 222,
   "id": "948af73f",
   "metadata": {},
   "outputs": [
    {
     "data": {
      "text/plain": [
       "'{\"1\": {\"no\": \"1\", \"mcq\": \"What is the main focus of Object-Oriented Programming?\", \"options\": {\"A\": \"Logic and functions\", \"B\": \"Objects and their interactions\", \"C\": \"Data structures and algorithms\", \"D\": \"Procedural programming\"}, \"correct\": \"B\"}, \"2\": {\"no\": \"2\", \"mcq\": \"What does a class define in OOP?\", \"options\": {\"A\": \"A specific object with its own data\", \"B\": \"Properties and methods for objects created from it\", \"C\": \"A set of unrelated functions\", \"D\": \"A collection of abstract data types\"}, \"correct\": \"B\"}, \"3\": {\"no\": \"3\", \"mcq\": \"Which OOP concept involves hiding implementation details and showing only essential features?\", \"options\": {\"A\": \"Encapsulation\", \"B\": \"Inheritance\", \"C\": \"Polymorphism\", \"D\": \"Abstraction\"}, \"correct\": \"A\"}, \"4\": {\"no\": \"4\", \"mcq\": \"What allows a subclass to inherit properties and behaviors from a parent class?\", \"options\": {\"A\": \"Polymorphism\", \"B\": \"Encapsulation\", \"C\": \"Abstraction\", \"D\": \"Inheritance\"}, \"correct\": \"D\"}, \"5\": {\"no\": \"5\", \"mcq\": \"Which concept lets objects of different classes be treated as objects of a common superclass?\", \"options\": {\"A\": \"Encapsulation\", \"B\": \"Abstraction\", \"C\": \"Inheritance\", \"D\": \"Polymorphism\"}, \"correct\": \"D\"}}'"
      ]
     },
     "execution_count": 222,
     "metadata": {},
     "output_type": "execute_result"
    }
   ],
   "source": [
    "reviewed_quiz = response.get('reviewed_quiz')\n",
    "reviewed_quiz"
   ]
  },
  {
   "cell_type": "markdown",
   "id": "bc677ebf",
   "metadata": {},
   "source": [
    "### Format the Reviewed Quiz and Store in DataFrame"
   ]
  },
  {
   "cell_type": "code",
   "execution_count": 223,
   "id": "d064bb9e",
   "metadata": {},
   "outputs": [],
   "source": [
    "import json\n",
    "import pandas as pd\n",
    "\n",
    "# 1. Get the reviewed_quiz JSON string from your response dict:\n",
    "reviewed_quiz = response.get('reviewed_quiz')\n",
    "\n",
    "# 2. Strip any markdown/code-block markers:\n",
    "if reviewed_quiz.startswith(\"```json\"):\n",
    "    reviewed_quiz = reviewed_quiz.strip(\"```json\").strip(\"```\").strip()\n",
    "\n",
    "# 3. Parse it into a Python list of dicts:\n",
    "parsed_review = json.loads(reviewed_quiz)"
   ]
  },
  {
   "cell_type": "code",
   "execution_count": 224,
   "id": "9dbad9a1",
   "metadata": {},
   "outputs": [
    {
     "data": {
      "text/plain": [
       "{'1': {'no': '1',\n",
       "  'mcq': 'What is the main focus of Object-Oriented Programming?',\n",
       "  'options': {'A': 'Logic and functions',\n",
       "   'B': 'Objects and their interactions',\n",
       "   'C': 'Data structures and algorithms',\n",
       "   'D': 'Procedural programming'},\n",
       "  'correct': 'B'},\n",
       " '2': {'no': '2',\n",
       "  'mcq': 'What does a class define in OOP?',\n",
       "  'options': {'A': 'A specific object with its own data',\n",
       "   'B': 'Properties and methods for objects created from it',\n",
       "   'C': 'A set of unrelated functions',\n",
       "   'D': 'A collection of abstract data types'},\n",
       "  'correct': 'B'},\n",
       " '3': {'no': '3',\n",
       "  'mcq': 'Which OOP concept involves hiding implementation details and showing only essential features?',\n",
       "  'options': {'A': 'Encapsulation',\n",
       "   'B': 'Inheritance',\n",
       "   'C': 'Polymorphism',\n",
       "   'D': 'Abstraction'},\n",
       "  'correct': 'A'},\n",
       " '4': {'no': '4',\n",
       "  'mcq': 'What allows a subclass to inherit properties and behaviors from a parent class?',\n",
       "  'options': {'A': 'Polymorphism',\n",
       "   'B': 'Encapsulation',\n",
       "   'C': 'Abstraction',\n",
       "   'D': 'Inheritance'},\n",
       "  'correct': 'D'},\n",
       " '5': {'no': '5',\n",
       "  'mcq': 'Which concept lets objects of different classes be treated as objects of a common superclass?',\n",
       "  'options': {'A': 'Encapsulation',\n",
       "   'B': 'Abstraction',\n",
       "   'C': 'Inheritance',\n",
       "   'D': 'Polymorphism'},\n",
       "  'correct': 'D'}}"
      ]
     },
     "execution_count": 224,
     "metadata": {},
     "output_type": "execute_result"
    }
   ],
   "source": [
    "parsed_review"
   ]
  },
  {
   "cell_type": "code",
   "execution_count": 238,
   "id": "2da98a3f",
   "metadata": {},
   "outputs": [],
   "source": [
    "df = pd.DataFrame.from_dict(parsed_review, orient='index')\n",
    "\n",
    "# Drop the 'no' column\n",
    "\n",
    "\n",
    "# Flatten the 'options' dictionary\n",
    "options_df = df['options'].apply(pd.Series)\n",
    "\n",
    "# Drop the 'options' column and concatenate options + correct at the end\n",
    "df = df.drop(columns='options').join(options_df)\n",
    "\n",
    "# Rename 'mcq' to 'Question'\n",
    "df.rename(columns={'mcq': 'Question'}, inplace=True)\n",
    "# Move 'correct' column to the end\n",
    "correct = df.pop('correct')\n",
    "df['correct'] = correct\n",
    "\n",
    "# Optional: reset index, remove no.\n",
    "df.reset_index(drop=True, inplace=True)\n",
    "df.drop(columns='no', inplace=True)"
   ]
  },
  {
   "cell_type": "code",
   "execution_count": 239,
   "id": "365e4113",
   "metadata": {},
   "outputs": [
    {
     "data": {
      "text/html": [
       "<div>\n",
       "<style scoped>\n",
       "    .dataframe tbody tr th:only-of-type {\n",
       "        vertical-align: middle;\n",
       "    }\n",
       "\n",
       "    .dataframe tbody tr th {\n",
       "        vertical-align: top;\n",
       "    }\n",
       "\n",
       "    .dataframe thead th {\n",
       "        text-align: right;\n",
       "    }\n",
       "</style>\n",
       "<table border=\"1\" class=\"dataframe\">\n",
       "  <thead>\n",
       "    <tr style=\"text-align: right;\">\n",
       "      <th></th>\n",
       "      <th>Question</th>\n",
       "      <th>A</th>\n",
       "      <th>B</th>\n",
       "      <th>C</th>\n",
       "      <th>D</th>\n",
       "      <th>correct</th>\n",
       "    </tr>\n",
       "  </thead>\n",
       "  <tbody>\n",
       "    <tr>\n",
       "      <th>0</th>\n",
       "      <td>What is the main focus of Object-Oriented Prog...</td>\n",
       "      <td>Logic and functions</td>\n",
       "      <td>Objects and their interactions</td>\n",
       "      <td>Data structures and algorithms</td>\n",
       "      <td>Procedural programming</td>\n",
       "      <td>B</td>\n",
       "    </tr>\n",
       "    <tr>\n",
       "      <th>1</th>\n",
       "      <td>What does a class define in OOP?</td>\n",
       "      <td>A specific object with its own data</td>\n",
       "      <td>Properties and methods for objects created fro...</td>\n",
       "      <td>A set of unrelated functions</td>\n",
       "      <td>A collection of abstract data types</td>\n",
       "      <td>B</td>\n",
       "    </tr>\n",
       "    <tr>\n",
       "      <th>2</th>\n",
       "      <td>Which OOP concept involves hiding implementati...</td>\n",
       "      <td>Encapsulation</td>\n",
       "      <td>Inheritance</td>\n",
       "      <td>Polymorphism</td>\n",
       "      <td>Abstraction</td>\n",
       "      <td>A</td>\n",
       "    </tr>\n",
       "    <tr>\n",
       "      <th>3</th>\n",
       "      <td>What allows a subclass to inherit properties a...</td>\n",
       "      <td>Polymorphism</td>\n",
       "      <td>Encapsulation</td>\n",
       "      <td>Abstraction</td>\n",
       "      <td>Inheritance</td>\n",
       "      <td>D</td>\n",
       "    </tr>\n",
       "    <tr>\n",
       "      <th>4</th>\n",
       "      <td>Which concept lets objects of different classe...</td>\n",
       "      <td>Encapsulation</td>\n",
       "      <td>Abstraction</td>\n",
       "      <td>Inheritance</td>\n",
       "      <td>Polymorphism</td>\n",
       "      <td>D</td>\n",
       "    </tr>\n",
       "  </tbody>\n",
       "</table>\n",
       "</div>"
      ],
      "text/plain": [
       "                                            Question  \\\n",
       "0  What is the main focus of Object-Oriented Prog...   \n",
       "1                   What does a class define in OOP?   \n",
       "2  Which OOP concept involves hiding implementati...   \n",
       "3  What allows a subclass to inherit properties a...   \n",
       "4  Which concept lets objects of different classe...   \n",
       "\n",
       "                                     A  \\\n",
       "0                  Logic and functions   \n",
       "1  A specific object with its own data   \n",
       "2                        Encapsulation   \n",
       "3                         Polymorphism   \n",
       "4                        Encapsulation   \n",
       "\n",
       "                                                   B  \\\n",
       "0                     Objects and their interactions   \n",
       "1  Properties and methods for objects created fro...   \n",
       "2                                        Inheritance   \n",
       "3                                      Encapsulation   \n",
       "4                                        Abstraction   \n",
       "\n",
       "                                C                                    D correct  \n",
       "0  Data structures and algorithms               Procedural programming       B  \n",
       "1    A set of unrelated functions  A collection of abstract data types       B  \n",
       "2                    Polymorphism                          Abstraction       A  \n",
       "3                     Abstraction                          Inheritance       D  \n",
       "4                     Inheritance                         Polymorphism       D  "
      ]
     },
     "execution_count": 239,
     "metadata": {},
     "output_type": "execute_result"
    }
   ],
   "source": [
    "df.head()"
   ]
  }
 ],
 "metadata": {
  "kernelspec": {
   "display_name": "Python 3",
   "language": "python",
   "name": "python3"
  },
  "language_info": {
   "codemirror_mode": {
    "name": "ipython",
    "version": 3
   },
   "file_extension": ".py",
   "mimetype": "text/x-python",
   "name": "python",
   "nbconvert_exporter": "python",
   "pygments_lexer": "ipython3",
   "version": "3.12.10"
  }
 },
 "nbformat": 4,
 "nbformat_minor": 5
}
