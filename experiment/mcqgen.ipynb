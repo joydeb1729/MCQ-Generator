{
 "cells": [
  {
   "cell_type": "code",
   "execution_count": 404,
   "id": "fbe84420",
   "metadata": {},
   "outputs": [],
   "source": [
    "import os\n",
    "import json\n",
    "import pandas as pd\n",
    "import traceback\n",
    "\n",
    "from dotenv import load_dotenv"
   ]
  },
  {
   "cell_type": "code",
   "execution_count": 405,
   "id": "f1a5a8db",
   "metadata": {},
   "outputs": [],
   "source": [
    "load_dotenv()\n",
    "API_KEY = os.getenv('OPENROUTER_API_KEY')"
   ]
  },
  {
   "cell_type": "code",
   "execution_count": 406,
   "id": "0680b6a0",
   "metadata": {},
   "outputs": [],
   "source": [
    "from langchain.llms import OpenAI\n",
    "from langchain_openai import ChatOpenAI\n",
    "from langchain.prompts import PromptTemplate\n",
    "from langchain.chains import LLMChain\n",
    "from langchain.chains import SequentialChain\n",
    "from langchain.callbacks import get_openai_callback\n",
    "import PyPDF2"
   ]
  },
  {
   "cell_type": "markdown",
   "id": "d053a461",
   "metadata": {},
   "source": [
    "### Initialization"
   ]
  },
  {
   "cell_type": "code",
   "execution_count": 407,
   "id": "5958f965",
   "metadata": {},
   "outputs": [],
   "source": [
    "llm = ChatOpenAI(\n",
    "    openai_api_key=API_KEY,\n",
    "    openai_api_base=\"https://openrouter.ai/api/v1\",\n",
    "    model_name=\"shisa-ai/shisa-v2-llama3.3-70b:free\",\n",
    "    temperature=0.5,\n",
    ")"
   ]
  },
  {
   "cell_type": "markdown",
   "id": "f95d9d51",
   "metadata": {},
   "source": [
    "### Response JSON format"
   ]
  },
  {
   "cell_type": "code",
   "execution_count": 408,
   "id": "a0dc0a73",
   "metadata": {},
   "outputs": [],
   "source": [
    "RESPONSE_JSON = '''[\n",
    "  {\n",
    "    \"question\": \"1. Multiple choice question.\",\n",
    "    \"options\": {\n",
    "      \"A\": \"Choice A\",\n",
    "      \"B\": \"Choice B\",\n",
    "      \"C\": \"Choice C\",\n",
    "      \"D\": \"Choice D\"\n",
    "    },\n",
    "    \"answer\": \"A\"\n",
    "  },\n",
    "  {\n",
    "    \"question\": \"2. Multiple choice question.\",\n",
    "    \"options\": {\n",
    "      \"A\": \"Choice A\",\n",
    "      \"B\": \"Choice B\",\n",
    "      \"C\": \"Choice C\",\n",
    "      \"D\": \"Choice D\"\n",
    "    },\n",
    "    \"answer\": \"B\"\n",
    "  },\n",
    "  {\n",
    "    \"question\": \"3. Multiple choice question.\",\n",
    "    \"options\": {\n",
    "      \"A\": \"Choice A\",\n",
    "      \"B\": \"Choice B\",\n",
    "      \"C\": \"Choice C\",\n",
    "      \"D\": \"Choice D\"\n",
    "    },\n",
    "    \"answer\": \"C\"\n",
    "  },\n",
    "  {\n",
    "    \"question\": \"4. Multiple choice question.\",\n",
    "    \"options\": {\n",
    "      \"A\": \"Choice A\",\n",
    "      \"B\": \"Choice B\",\n",
    "      \"C\": \"Choice C\",\n",
    "      \"D\": \"Choice D\"\n",
    "    },\n",
    "    \"answer\": \"D\"\n",
    "  },\n",
    "  {\n",
    "    \"question\": \"5. Multiple choice question.\",\n",
    "    \"options\": {\n",
    "      \"A\": \"Choice A\",\n",
    "      \"B\": \"Choice B\",\n",
    "      \"C\": \"Choice C\",\n",
    "      \"D\": \"Choice D\"\n",
    "    },\n",
    "    \"answer\": \"A\"\n",
    "  }\n",
    "]'''\n"
   ]
  },
  {
   "cell_type": "markdown",
   "id": "731b7369",
   "metadata": {},
   "source": [
    "### 1st Template (Generation)"
   ]
  },
  {
   "cell_type": "code",
   "execution_count": 409,
   "id": "64376b6b",
   "metadata": {},
   "outputs": [],
   "source": [
    "TEMPLATE = \"\"\"\n",
    "You are an expert question setter with deep knowledge of the subject: {subject}. \n",
    "Generate {number} multiple choice questions (MCQs) from the following text. Use a {tone} tone while creating the questions.\n",
    "\n",
    "TEXT:\n",
    "{text}\n",
    "\n",
    "INSTRUCTIONS:\n",
    "- Each question should have exactly 4 options: A, B, C, and D.\n",
    "- Only one option should be correct.\n",
    "- Vary difficulty from easy to hard and cover different parts of the text.\n",
    "- Ensure relevance and factual accuracy.\n",
    "- Do not include explanations, code fences, or any extra text.\n",
    "\n",
    "RESPONSE FORMAT (JSON only—no backticks or markdown):\n",
    "{response_json}\n",
    "\n",
    "Return only the raw JSON array, ready for `json.loads()`.\n",
    "\"\"\"\n"
   ]
  },
  {
   "cell_type": "code",
   "execution_count": 410,
   "id": "8ac00dd1",
   "metadata": {},
   "outputs": [],
   "source": [
    "mcq_generation_prompt = PromptTemplate(\n",
    "    input_variables=['text', 'number', 'subject', 'tone', 'response_json'],\n",
    "    template=TEMPLATE\n",
    ")"
   ]
  },
  {
   "cell_type": "markdown",
   "id": "5959dffe",
   "metadata": {},
   "source": [
    "### 1st Chain"
   ]
  },
  {
   "cell_type": "code",
   "execution_count": 411,
   "id": "55e1cf1e",
   "metadata": {},
   "outputs": [],
   "source": [
    "generation_chain = LLMChain(\n",
    "    llm=llm,\n",
    "    prompt=mcq_generation_prompt,\n",
    "    output_key=\"quiz\",\n",
    "    verbose=True\n",
    ")"
   ]
  },
  {
   "cell_type": "markdown",
   "id": "65acb6b4",
   "metadata": {},
   "source": [
    "### 2nd Template (review)"
   ]
  },
  {
   "cell_type": "code",
   "execution_count": 412,
   "id": "24b15f03",
   "metadata": {},
   "outputs": [],
   "source": [
    "TEMPLATE2 = \"\"\"\n",
    "You are an expert in English grammar and education, skilled at analyzing and adjusting multiple choice questions (MCQs) for clarity, tone, and student ability.\n",
    "\n",
    "Subject: {subject}\n",
    "\n",
    "Below is a JSON array of generated MCQs:\n",
    "{quiz}\n",
    "\n",
    "INSTRUCTIONS:\n",
    "- Check and correct all grammar.\n",
    "- Ensure each question’s complexity matches the students’ level.\n",
    "- Maintain relevance to the subject.\n",
    "- Preserve the specified tone: {tone}.\n",
    "- If any question is too complex, unclear, or off-tone, revise it while keeping its original intent.\n",
    "\n",
    "RESPONSE FORMAT (JSON only—no backticks, no markdown, no extra text):\n",
    "Return the improved quiz as a raw JSON array, identical in structure to the input.\n",
    "\"\"\"\n"
   ]
  },
  {
   "cell_type": "code",
   "execution_count": 413,
   "id": "654dc767",
   "metadata": {},
   "outputs": [],
   "source": [
    "mcq_evaluation_prompt = PromptTemplate(\n",
    "    input_variables=['quiz', 'subject'],\n",
    "    template=TEMPLATE2\n",
    ")"
   ]
  },
  {
   "cell_type": "markdown",
   "id": "da646638",
   "metadata": {},
   "source": [
    "### 2nd Chain"
   ]
  },
  {
   "cell_type": "code",
   "execution_count": 414,
   "id": "73156de7",
   "metadata": {},
   "outputs": [],
   "source": [
    "review_chain = LLMChain(\n",
    "    llm=llm,\n",
    "    prompt=mcq_evaluation_prompt,\n",
    "    output_key=\"reviewed_quiz\",\n",
    "    verbose=True\n",
    ")"
   ]
  },
  {
   "cell_type": "markdown",
   "id": "282c99dd",
   "metadata": {},
   "source": [
    "### Combining 1st and 2nd Chains"
   ]
  },
  {
   "cell_type": "code",
   "execution_count": 415,
   "id": "ecdc2de6",
   "metadata": {},
   "outputs": [],
   "source": [
    "generate_evaluate_chain = SequentialChain(\n",
    "    chains=[generation_chain, review_chain],\n",
    "    input_variables=['text', 'number', 'subject', 'tone', 'response_json'],\n",
    "    output_variables=['quiz', 'reviewed_quiz'],  # Corrected output_variables spelling and key\n",
    "    verbose=True  # Moved verbose to SequentialChain itself (if it's supported)\n",
    ")\n"
   ]
  },
  {
   "cell_type": "markdown",
   "id": "6b24d1c4",
   "metadata": {},
   "source": [
    "### Reading my source data"
   ]
  },
  {
   "cell_type": "code",
   "execution_count": 416,
   "id": "60c98e22",
   "metadata": {},
   "outputs": [],
   "source": [
    "with open(\"oop_info.txt\", \"r\", encoding=\"utf-8\") as file:\n",
    "    source_text = file.read()"
   ]
  },
  {
   "cell_type": "code",
   "execution_count": 417,
   "id": "2ac92894",
   "metadata": {},
   "outputs": [
    {
     "data": {
      "text/plain": [
       "\"Object-Oriented Programming (OOP) is a programming paradigm that is based on the concept of objects, which can contain both data in the form of fields (often known as attributes or properties) and methods (functions or procedures) that operate on the data. In OOP, the focus is on organizing code around objects and the interactions between them, rather than on logic and functions. OOP allows programmers to model real-world entities and their relationships, which makes it easier to design, manage, and scale software systems.\\n\\nA class in OOP is a blueprint for creating objects. It defines the properties (data attributes) and methods (functions) that the objects created from the class will have. The class itself does not hold any data, but rather it provides a template from which individual objects are created. Each object is an instance of a class, and each object can have its own specific values for the attributes defined in the class. This allows objects to represent real-world entities with unique states and behaviors.\\n\\nThe core concepts of OOP are encapsulation, inheritance, polymorphism, and abstraction. Encapsulation is the concept of bundling the data (attributes) and the methods that operate on that data into a single unit, or object. It also involves restricting access to the internal state of the object and only allowing access through well-defined interfaces, usually methods. This helps protect the integrity of the object's state and makes the system more modular by isolating changes to a specific object.\\n\\nInheritance is a mechanism that allows a new class (child or subclass) to inherit the properties and behaviors of an existing class (parent or superclass). This allows for code reuse and the creation of hierarchical relationships between classes. A subclass can add new methods or override existing ones to provide specific functionality, extending or modifying the behavior of the parent class. This promotes maintainability and helps avoid redundant code.\\n\\nPolymorphism enables objects of different classes to be treated as objects of a common superclass. It allows a single method or operator to work with different types of objects. This can be achieved through method overriding or method overloading. With polymorphism, different objects can respond to the same message or method call in different ways, which increases flexibility in the code and allows for more dynamic behavior.\\n\\nAbstraction is the concept of simplifying complex systems by hiding the unnecessary implementation details and exposing only the essential features or functionality. In OOP, abstraction is typically achieved through abstract classes and interfaces. An abstract class cannot be instantiated on its own but can be inherited by subclasses, which must implement its abstract methods. Abstraction allows developers to work at a higher level, without needing to know the intricate details of the implementation.\\n\\nTogether, these principles help make OOP a highly effective approach for managing complexity in large software projects. It enables better code organization, easier debugging and testing, and greater flexibility for code reuse and future system extensions. Furthermore, OOP encourages a more natural modeling of real-world entities and their relationships, which helps improve the readability and maintainability of code.\""
      ]
     },
     "execution_count": 417,
     "metadata": {},
     "output_type": "execute_result"
    }
   ],
   "source": [
    "source_text"
   ]
  },
  {
   "cell_type": "markdown",
   "id": "e7ffb664",
   "metadata": {},
   "source": [
    "### Serializing Python dictionary to JSON-formatted-string"
   ]
  },
  {
   "cell_type": "code",
   "execution_count": 418,
   "id": "6b885652",
   "metadata": {},
   "outputs": [
    {
     "name": "stdout",
     "output_type": "stream",
     "text": [
      "\"[\\n  {\\n    \\\"question\\\": \\\"1. Multiple choice question.\\\",\\n    \\\"options\\\": {\\n      \\\"A\\\": \\\"Choice A\\\",\\n      \\\"B\\\": \\\"Choice B\\\",\\n      \\\"C\\\": \\\"Choice C\\\",\\n      \\\"D\\\": \\\"Choice D\\\"\\n    },\\n    \\\"answer\\\": \\\"A\\\"\\n  },\\n  {\\n    \\\"question\\\": \\\"2. Multiple choice question.\\\",\\n    \\\"options\\\": {\\n      \\\"A\\\": \\\"Choice A\\\",\\n      \\\"B\\\": \\\"Choice B\\\",\\n      \\\"C\\\": \\\"Choice C\\\",\\n      \\\"D\\\": \\\"Choice D\\\"\\n    },\\n    \\\"answer\\\": \\\"B\\\"\\n  },\\n  {\\n    \\\"question\\\": \\\"3. Multiple choice question.\\\",\\n    \\\"options\\\": {\\n      \\\"A\\\": \\\"Choice A\\\",\\n      \\\"B\\\": \\\"Choice B\\\",\\n      \\\"C\\\": \\\"Choice C\\\",\\n      \\\"D\\\": \\\"Choice D\\\"\\n    },\\n    \\\"answer\\\": \\\"C\\\"\\n  },\\n  {\\n    \\\"question\\\": \\\"4. Multiple choice question.\\\",\\n    \\\"options\\\": {\\n      \\\"A\\\": \\\"Choice A\\\",\\n      \\\"B\\\": \\\"Choice B\\\",\\n      \\\"C\\\": \\\"Choice C\\\",\\n      \\\"D\\\": \\\"Choice D\\\"\\n    },\\n    \\\"answer\\\": \\\"D\\\"\\n  },\\n  {\\n    \\\"question\\\": \\\"5. Multiple choice question.\\\",\\n    \\\"options\\\": {\\n      \\\"A\\\": \\\"Choice A\\\",\\n      \\\"B\\\": \\\"Choice B\\\",\\n      \\\"C\\\": \\\"Choice C\\\",\\n      \\\"D\\\": \\\"Choice D\\\"\\n    },\\n    \\\"answer\\\": \\\"A\\\"\\n  }\\n]\"\n"
     ]
    }
   ],
   "source": [
    "json_string = json.dumps(RESPONSE_JSON, separators=(',', ':'))\n",
    "print(json_string)"
   ]
  },
  {
   "cell_type": "markdown",
   "id": "99682657",
   "metadata": {},
   "source": [
    "### Creating Response and Tracking Token Usage"
   ]
  },
  {
   "cell_type": "code",
   "execution_count": 419,
   "id": "147ad3ce",
   "metadata": {},
   "outputs": [],
   "source": [
    "NUMBER = 5\n",
    "SUBJECT = 'Object Oriented Programming'\n",
    "TONE = 'Simple'"
   ]
  },
  {
   "cell_type": "code",
   "execution_count": 420,
   "id": "5339b542",
   "metadata": {},
   "outputs": [
    {
     "name": "stdout",
     "output_type": "stream",
     "text": [
      "\n",
      "\n",
      "\u001b[1m> Entering new SequentialChain chain...\u001b[0m\n",
      "\n",
      "\n",
      "\u001b[1m> Entering new LLMChain chain...\u001b[0m\n",
      "Prompt after formatting:\n",
      "\u001b[32;1m\u001b[1;3m\n",
      "You are an expert question setter with deep knowledge of the subject: Object Oriented Programming. \n",
      "Generate 5 multiple choice questions (MCQs) from the following text. Use a Simple tone while creating the questions.\n",
      "\n",
      "TEXT:\n",
      "Object-Oriented Programming (OOP) is a programming paradigm that is based on the concept of objects, which can contain both data in the form of fields (often known as attributes or properties) and methods (functions or procedures) that operate on the data. In OOP, the focus is on organizing code around objects and the interactions between them, rather than on logic and functions. OOP allows programmers to model real-world entities and their relationships, which makes it easier to design, manage, and scale software systems.\n",
      "\n",
      "A class in OOP is a blueprint for creating objects. It defines the properties (data attributes) and methods (functions) that the objects created from the class will have. The class itself does not hold any data, but rather it provides a template from which individual objects are created. Each object is an instance of a class, and each object can have its own specific values for the attributes defined in the class. This allows objects to represent real-world entities with unique states and behaviors.\n",
      "\n",
      "The core concepts of OOP are encapsulation, inheritance, polymorphism, and abstraction. Encapsulation is the concept of bundling the data (attributes) and the methods that operate on that data into a single unit, or object. It also involves restricting access to the internal state of the object and only allowing access through well-defined interfaces, usually methods. This helps protect the integrity of the object's state and makes the system more modular by isolating changes to a specific object.\n",
      "\n",
      "Inheritance is a mechanism that allows a new class (child or subclass) to inherit the properties and behaviors of an existing class (parent or superclass). This allows for code reuse and the creation of hierarchical relationships between classes. A subclass can add new methods or override existing ones to provide specific functionality, extending or modifying the behavior of the parent class. This promotes maintainability and helps avoid redundant code.\n",
      "\n",
      "Polymorphism enables objects of different classes to be treated as objects of a common superclass. It allows a single method or operator to work with different types of objects. This can be achieved through method overriding or method overloading. With polymorphism, different objects can respond to the same message or method call in different ways, which increases flexibility in the code and allows for more dynamic behavior.\n",
      "\n",
      "Abstraction is the concept of simplifying complex systems by hiding the unnecessary implementation details and exposing only the essential features or functionality. In OOP, abstraction is typically achieved through abstract classes and interfaces. An abstract class cannot be instantiated on its own but can be inherited by subclasses, which must implement its abstract methods. Abstraction allows developers to work at a higher level, without needing to know the intricate details of the implementation.\n",
      "\n",
      "Together, these principles help make OOP a highly effective approach for managing complexity in large software projects. It enables better code organization, easier debugging and testing, and greater flexibility for code reuse and future system extensions. Furthermore, OOP encourages a more natural modeling of real-world entities and their relationships, which helps improve the readability and maintainability of code.\n",
      "\n",
      "INSTRUCTIONS:\n",
      "- Each question should have exactly 4 options: A, B, C, and D.\n",
      "- Only one option should be correct.\n",
      "- Vary difficulty from easy to hard and cover different parts of the text.\n",
      "- Ensure relevance and factual accuracy.\n",
      "- Do not include explanations, code fences, or any extra text.\n",
      "\n",
      "RESPONSE FORMAT (JSON only—no backticks or markdown):\n",
      "\"[\\n  {\\n    \\\"question\\\": \\\"1. Multiple choice question.\\\",\\n    \\\"options\\\": {\\n      \\\"A\\\": \\\"Choice A\\\",\\n      \\\"B\\\": \\\"Choice B\\\",\\n      \\\"C\\\": \\\"Choice C\\\",\\n      \\\"D\\\": \\\"Choice D\\\"\\n    },\\n    \\\"answer\\\": \\\"A\\\"\\n  },\\n  {\\n    \\\"question\\\": \\\"2. Multiple choice question.\\\",\\n    \\\"options\\\": {\\n      \\\"A\\\": \\\"Choice A\\\",\\n      \\\"B\\\": \\\"Choice B\\\",\\n      \\\"C\\\": \\\"Choice C\\\",\\n      \\\"D\\\": \\\"Choice D\\\"\\n    },\\n    \\\"answer\\\": \\\"B\\\"\\n  },\\n  {\\n    \\\"question\\\": \\\"3. Multiple choice question.\\\",\\n    \\\"options\\\": {\\n      \\\"A\\\": \\\"Choice A\\\",\\n      \\\"B\\\": \\\"Choice B\\\",\\n      \\\"C\\\": \\\"Choice C\\\",\\n      \\\"D\\\": \\\"Choice D\\\"\\n    },\\n    \\\"answer\\\": \\\"C\\\"\\n  },\\n  {\\n    \\\"question\\\": \\\"4. Multiple choice question.\\\",\\n    \\\"options\\\": {\\n      \\\"A\\\": \\\"Choice A\\\",\\n      \\\"B\\\": \\\"Choice B\\\",\\n      \\\"C\\\": \\\"Choice C\\\",\\n      \\\"D\\\": \\\"Choice D\\\"\\n    },\\n    \\\"answer\\\": \\\"D\\\"\\n  },\\n  {\\n    \\\"question\\\": \\\"5. Multiple choice question.\\\",\\n    \\\"options\\\": {\\n      \\\"A\\\": \\\"Choice A\\\",\\n      \\\"B\\\": \\\"Choice B\\\",\\n      \\\"C\\\": \\\"Choice C\\\",\\n      \\\"D\\\": \\\"Choice D\\\"\\n    },\\n    \\\"answer\\\": \\\"A\\\"\\n  }\\n]\"\n",
      "\n",
      "Return only the raw JSON array, ready for `json.loads()`.\n",
      "\u001b[0m\n",
      "\n",
      "\u001b[1m> Finished chain.\u001b[0m\n",
      "\n",
      "\n",
      "\u001b[1m> Entering new LLMChain chain...\u001b[0m\n",
      "Prompt after formatting:\n",
      "\u001b[32;1m\u001b[1;3m\n",
      "You are an expert in English grammar and education, skilled at analyzing and adjusting multiple choice questions (MCQs) for clarity, tone, and student ability.\n",
      "\n",
      "Subject: Object Oriented Programming\n",
      "\n",
      "Below is a JSON array of generated MCQs:\n",
      "```json\n",
      "[\n",
      "  {\n",
      "    \"question\": \"1. What is the primary focus of Object-Oriented Programming (OOP)?\",\n",
      "    \"options\": {\n",
      "      \"A\": \"Organizing code around logic and functions\",\n",
      "      \"B\": \"Organizing code around objects and their interactions\",\n",
      "      \"C\": \"Creating functions to manipulate data\",\n",
      "      \"D\": \"Designing algorithms for problem-solving\"\n",
      "    },\n",
      "    \"answer\": \"B\"\n",
      "  },\n",
      "  {\n",
      "    \"question\": \"2. What does a class in OOP represent?\",\n",
      "    \"options\": {\n",
      "      \"A\": \"An instance of an object\",\n",
      "      \"B\": \"A blueprint for creating objects\",\n",
      "      \"C\": \"A collection of functions\",\n",
      "      \"D\": \"A set of data attributes\"\n",
      "    },\n",
      "    \"answer\": \"B\"\n",
      "  },\n",
      "  {\n",
      "    \"question\": \"3. Which OOP concept involves bundling data and methods into a single unit?\",\n",
      "    \"options\": {\n",
      "      \"A\": \"Inheritance\",\n",
      "      \"B\": \"Polymorphism\",\n",
      "      \"C\": \"Encapsulation\",\n",
      "      \"D\": \"Abstraction\"\n",
      "    },\n",
      "    \"answer\": \"C\"\n",
      "  },\n",
      "  {\n",
      "    \"question\": \"4. What does inheritance allow in OOP?\",\n",
      "    \"options\": {\n",
      "      \"A\": \"Creating multiple objects from a single class\",\n",
      "      \"B\": \"A new class to inherit properties from an existing class\",\n",
      "      \"C\": \"Objects to change their class dynamically\",\n",
      "      \"D\": \"Functions to operate on different data types\"\n",
      "    },\n",
      "    \"answer\": \"B\"\n",
      "  },\n",
      "  {\n",
      "    \"question\": \"5. Which OOP principle helps simplify complex systems by hiding unnecessary details?\",\n",
      "    \"options\": {\n",
      "      \"A\": \"Encapsulation\",\n",
      "      \"B\": \"Inheritance\",\n",
      "      \"C\": \"Polymorphism\",\n",
      "      \"D\": \"Abstraction\"\n",
      "    },\n",
      "    \"answer\": \"D\"\n",
      "  }\n",
      "]\n",
      "```\n",
      "\n",
      "INSTRUCTIONS:\n",
      "- Check and correct all grammar.\n",
      "- Ensure each question’s complexity matches the students’ level.\n",
      "- Maintain relevance to the subject.\n",
      "- Preserve the specified tone: Simple.\n",
      "- If any question is too complex, unclear, or off-tone, revise it while keeping its original intent.\n",
      "\n",
      "RESPONSE FORMAT (JSON only—no backticks, no markdown, no extra text):\n",
      "Return the improved quiz as a raw JSON array, identical in structure to the input.\n",
      "\u001b[0m\n",
      "\n",
      "\u001b[1m> Finished chain.\u001b[0m\n",
      "\n",
      "\u001b[1m> Finished chain.\u001b[0m\n"
     ]
    }
   ],
   "source": [
    "with get_openai_callback() as cb:\n",
    "    response = generate_evaluate_chain(\n",
    "        {\n",
    "            \"text\" : source_text,\n",
    "            \"number\" : NUMBER,\n",
    "            'subject' : SUBJECT,\n",
    "            'tone' : TONE,\n",
    "            'response_json' : json_string\n",
    "        }\n",
    "    )"
   ]
  },
  {
   "cell_type": "code",
   "execution_count": 421,
   "id": "4b1b000d",
   "metadata": {},
   "outputs": [
    {
     "name": "stdout",
     "output_type": "stream",
     "text": [
      "Total Tokens: 2484\n",
      "Input Tokens: 1684\n",
      "Output Tokens: 800\n",
      "Total Costs: 0.0\n"
     ]
    }
   ],
   "source": [
    "print(f\"Total Tokens: {cb.total_tokens}\")\n",
    "print(f\"Input Tokens: {cb.prompt_tokens}\")      \n",
    "print(f\"Output Tokens: {cb.completion_tokens}\")\n",
    "print(f\"Total Costs: {cb.total_cost}\")\n"
   ]
  },
  {
   "cell_type": "markdown",
   "id": "bc677ebf",
   "metadata": {},
   "source": [
    "### Format the Reviewed Quiz and Store in DataFrame"
   ]
  },
  {
   "cell_type": "code",
   "execution_count": 422,
   "id": "d064bb9e",
   "metadata": {},
   "outputs": [],
   "source": [
    "import json\n",
    "import pandas as pd\n",
    "\n",
    "# 1. Get the reviewed_quiz JSON string from your response dict:\n",
    "reviewed_quiz = response.get('reviewed_quiz')\n",
    "\n",
    "# 2. Strip any markdown/code-block markers:\n",
    "if reviewed_quiz.startswith(\"```json\"):\n",
    "    reviewed_quiz = reviewed_quiz.strip(\"```json\").strip(\"```\").strip()\n",
    "\n",
    "# 3. Parse it into a Python list of dicts:\n",
    "parsed_review = json.loads(reviewed_quiz)"
   ]
  },
  {
   "cell_type": "code",
   "execution_count": 423,
   "id": "9dbad9a1",
   "metadata": {},
   "outputs": [
    {
     "data": {
      "text/plain": [
       "[{'question': '1. What is the main focus of Object-Oriented Programming (OOP)?',\n",
       "  'options': {'A': 'Organizing code based on logic and functions',\n",
       "   'B': 'Organizing code around objects and their interactions',\n",
       "   'C': 'Creating functions to manipulate data',\n",
       "   'D': 'Designing algorithms for problem-solving'},\n",
       "  'answer': 'B'},\n",
       " {'question': '2. What does a class represent in OOP?',\n",
       "  'options': {'A': 'An instance of an object',\n",
       "   'B': 'A blueprint for creating objects',\n",
       "   'C': 'A collection of functions',\n",
       "   'D': 'A set of data attributes'},\n",
       "  'answer': 'B'},\n",
       " {'question': '3. Which OOP concept combines data and methods into a single unit?',\n",
       "  'options': {'A': 'Inheritance',\n",
       "   'B': 'Polymorphism',\n",
       "   'C': 'Encapsulation',\n",
       "   'D': 'Abstraction'},\n",
       "  'answer': 'C'},\n",
       " {'question': '4. What does inheritance allow in OOP?',\n",
       "  'options': {'A': 'Creating multiple objects from one class',\n",
       "   'B': 'A new class to inherit properties from another class',\n",
       "   'C': 'Objects to change their class dynamically',\n",
       "   'D': 'Functions to work with different data types'},\n",
       "  'answer': 'B'},\n",
       " {'question': '5. Which OOP principle simplifies complex systems by hiding unnecessary details?',\n",
       "  'options': {'A': 'Encapsulation',\n",
       "   'B': 'Inheritance',\n",
       "   'C': 'Polymorphism',\n",
       "   'D': 'Abstraction'},\n",
       "  'answer': 'D'}]"
      ]
     },
     "execution_count": 423,
     "metadata": {},
     "output_type": "execute_result"
    }
   ],
   "source": [
    "parsed_review"
   ]
  },
  {
   "cell_type": "code",
   "execution_count": 424,
   "id": "2da98a3f",
   "metadata": {},
   "outputs": [],
   "source": [
    "# 4. Normalize into a flat DataFrame:\n",
    "#    This will create columns like 'question', 'options.A', 'options.B', etc.\n",
    "quiz_data = pd.json_normalize(parsed_review)"
   ]
  },
  {
   "cell_type": "code",
   "execution_count": 425,
   "id": "365e4113",
   "metadata": {},
   "outputs": [
    {
     "data": {
      "text/html": [
       "<div>\n",
       "<style scoped>\n",
       "    .dataframe tbody tr th:only-of-type {\n",
       "        vertical-align: middle;\n",
       "    }\n",
       "\n",
       "    .dataframe tbody tr th {\n",
       "        vertical-align: top;\n",
       "    }\n",
       "\n",
       "    .dataframe thead th {\n",
       "        text-align: right;\n",
       "    }\n",
       "</style>\n",
       "<table border=\"1\" class=\"dataframe\">\n",
       "  <thead>\n",
       "    <tr style=\"text-align: right;\">\n",
       "      <th></th>\n",
       "      <th>question</th>\n",
       "      <th>answer</th>\n",
       "      <th>options.A</th>\n",
       "      <th>options.B</th>\n",
       "      <th>options.C</th>\n",
       "      <th>options.D</th>\n",
       "    </tr>\n",
       "  </thead>\n",
       "  <tbody>\n",
       "    <tr>\n",
       "      <th>0</th>\n",
       "      <td>1. What is the main focus of Object-Oriented P...</td>\n",
       "      <td>B</td>\n",
       "      <td>Organizing code based on logic and functions</td>\n",
       "      <td>Organizing code around objects and their inter...</td>\n",
       "      <td>Creating functions to manipulate data</td>\n",
       "      <td>Designing algorithms for problem-solving</td>\n",
       "    </tr>\n",
       "    <tr>\n",
       "      <th>1</th>\n",
       "      <td>2. What does a class represent in OOP?</td>\n",
       "      <td>B</td>\n",
       "      <td>An instance of an object</td>\n",
       "      <td>A blueprint for creating objects</td>\n",
       "      <td>A collection of functions</td>\n",
       "      <td>A set of data attributes</td>\n",
       "    </tr>\n",
       "    <tr>\n",
       "      <th>2</th>\n",
       "      <td>3. Which OOP concept combines data and methods...</td>\n",
       "      <td>C</td>\n",
       "      <td>Inheritance</td>\n",
       "      <td>Polymorphism</td>\n",
       "      <td>Encapsulation</td>\n",
       "      <td>Abstraction</td>\n",
       "    </tr>\n",
       "    <tr>\n",
       "      <th>3</th>\n",
       "      <td>4. What does inheritance allow in OOP?</td>\n",
       "      <td>B</td>\n",
       "      <td>Creating multiple objects from one class</td>\n",
       "      <td>A new class to inherit properties from another...</td>\n",
       "      <td>Objects to change their class dynamically</td>\n",
       "      <td>Functions to work with different data types</td>\n",
       "    </tr>\n",
       "    <tr>\n",
       "      <th>4</th>\n",
       "      <td>5. Which OOP principle simplifies complex syst...</td>\n",
       "      <td>D</td>\n",
       "      <td>Encapsulation</td>\n",
       "      <td>Inheritance</td>\n",
       "      <td>Polymorphism</td>\n",
       "      <td>Abstraction</td>\n",
       "    </tr>\n",
       "  </tbody>\n",
       "</table>\n",
       "</div>"
      ],
      "text/plain": [
       "                                            question answer  \\\n",
       "0  1. What is the main focus of Object-Oriented P...      B   \n",
       "1             2. What does a class represent in OOP?      B   \n",
       "2  3. Which OOP concept combines data and methods...      C   \n",
       "3             4. What does inheritance allow in OOP?      B   \n",
       "4  5. Which OOP principle simplifies complex syst...      D   \n",
       "\n",
       "                                      options.A  \\\n",
       "0  Organizing code based on logic and functions   \n",
       "1                      An instance of an object   \n",
       "2                                   Inheritance   \n",
       "3      Creating multiple objects from one class   \n",
       "4                                 Encapsulation   \n",
       "\n",
       "                                           options.B  \\\n",
       "0  Organizing code around objects and their inter...   \n",
       "1                   A blueprint for creating objects   \n",
       "2                                       Polymorphism   \n",
       "3  A new class to inherit properties from another...   \n",
       "4                                        Inheritance   \n",
       "\n",
       "                                   options.C  \\\n",
       "0      Creating functions to manipulate data   \n",
       "1                  A collection of functions   \n",
       "2                              Encapsulation   \n",
       "3  Objects to change their class dynamically   \n",
       "4                               Polymorphism   \n",
       "\n",
       "                                     options.D  \n",
       "0     Designing algorithms for problem-solving  \n",
       "1                     A set of data attributes  \n",
       "2                                  Abstraction  \n",
       "3  Functions to work with different data types  \n",
       "4                                  Abstraction  "
      ]
     },
     "execution_count": 425,
     "metadata": {},
     "output_type": "execute_result"
    }
   ],
   "source": [
    "quiz_data.head()"
   ]
  },
  {
   "cell_type": "code",
   "execution_count": null,
   "id": "c66c4ade",
   "metadata": {},
   "outputs": [],
   "source": []
  }
 ],
 "metadata": {
  "kernelspec": {
   "display_name": "Python 3",
   "language": "python",
   "name": "python3"
  },
  "language_info": {
   "codemirror_mode": {
    "name": "ipython",
    "version": 3
   },
   "file_extension": ".py",
   "mimetype": "text/x-python",
   "name": "python",
   "nbconvert_exporter": "python",
   "pygments_lexer": "ipython3",
   "version": "3.12.10"
  }
 },
 "nbformat": 4,
 "nbformat_minor": 5
}
